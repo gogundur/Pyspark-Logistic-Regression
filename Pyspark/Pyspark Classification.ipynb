{
 "cells": [
  {
   "cell_type": "markdown",
   "metadata": {},
   "source": [
    "# Spark DataFrames"
   ]
  },
  {
   "cell_type": "code",
   "execution_count": 1,
   "metadata": {
    "collapsed": true
   },
   "outputs": [],
   "source": [
    "import findspark\n",
    "findspark.init()"
   ]
  },
  {
   "cell_type": "code",
   "execution_count": 2,
   "metadata": {
    "collapsed": true
   },
   "outputs": [],
   "source": [
    "from pyspark.sql import SparkSession\n",
    "from pyspark.conf import SparkConf\n",
    "from pyspark.sql.types import * \n",
    "import pyspark.sql.functions as F\n",
    "from pyspark.sql.functions import col, asc,desc\n",
    "import matplotlib.pyplot as plt\n",
    "import numpy as np\n",
    "import seaborn as sns\n",
    "from pyspark.sql import SQLContext\n",
    "from pyspark.mllib.stat import Statistics\n",
    "import pandas as pd\n",
    "from pyspark.sql.functions import udf\n",
    "spark=SparkSession.builder \\\n",
    ".master (\"local[*]\")\\\n",
    ".appName(\"part3\")\\\n",
    ".getOrCreate()"
   ]
  },
  {
   "cell_type": "code",
   "execution_count": 3,
   "metadata": {
    "collapsed": true
   },
   "outputs": [],
   "source": [
    "sc=spark.sparkContext\n",
    "sqlContext=SQLContext(sc)"
   ]
  },
  {
   "cell_type": "markdown",
   "metadata": {},
   "source": [
    "### Read File"
   ]
  },
  {
   "cell_type": "code",
   "execution_count": 46,
   "metadata": {},
   "outputs": [],
   "source": [
    "df=spark.read \\\n",
    " .option(\"header\",\"True\")\\\n",
    " .option(\"inferSchema\",\"True\")\\\n",
    " .option(\"sep\",\",\")\\\n",
    " .csv(\"/Users/gulcanogundur/Downloads/diabetes.csv\")"
   ]
  },
  {
   "cell_type": "markdown",
   "metadata": {},
   "source": [
    "## Show File"
   ]
  },
  {
   "cell_type": "code",
   "execution_count": 5,
   "metadata": {},
   "outputs": [
    {
     "name": "stdout",
     "output_type": "stream",
     "text": [
      "+-----------+-------+-------------+-------------+-------+----+------------------------+---+-------+\n",
      "|Pregnancies|Glucose|BloodPressure|SkinThickness|Insulin| BMI|DiabetesPedigreeFunction|Age|Outcome|\n",
      "+-----------+-------+-------------+-------------+-------+----+------------------------+---+-------+\n",
      "|          6|    148|           72|           35|      0|33.6|                   0.627| 50|      1|\n",
      "|          1|     85|           66|           29|      0|26.6|                   0.351| 31|      0|\n",
      "|          8|    183|           64|            0|      0|23.3|                   0.672| 32|      1|\n",
      "|          1|     89|           66|           23|     94|28.1|                   0.167| 21|      0|\n",
      "|          0|    137|           40|           35|    168|43.1|                   2.288| 33|      1|\n",
      "|          5|    116|           74|            0|      0|25.6|                   0.201| 30|      0|\n",
      "|          3|     78|           50|           32|     88|31.0|                   0.248| 26|      1|\n",
      "|         10|    115|            0|            0|      0|35.3|                   0.134| 29|      0|\n",
      "|          2|    197|           70|           45|    543|30.5|                   0.158| 53|      1|\n",
      "|          8|    125|           96|            0|      0| 0.0|                   0.232| 54|      1|\n",
      "|          4|    110|           92|            0|      0|37.6|                   0.191| 30|      0|\n",
      "|         10|    168|           74|            0|      0|38.0|                   0.537| 34|      1|\n",
      "|         10|    139|           80|            0|      0|27.1|                   1.441| 57|      0|\n",
      "|          1|    189|           60|           23|    846|30.1|                   0.398| 59|      1|\n",
      "|          5|    166|           72|           19|    175|25.8|                   0.587| 51|      1|\n",
      "|          7|    100|            0|            0|      0|30.0|                   0.484| 32|      1|\n",
      "|          0|    118|           84|           47|    230|45.8|                   0.551| 31|      1|\n",
      "|          7|    107|           74|            0|      0|29.6|                   0.254| 31|      1|\n",
      "|          1|    103|           30|           38|     83|43.3|                   0.183| 33|      0|\n",
      "|          1|    115|           70|           30|     96|34.6|                   0.529| 32|      1|\n",
      "+-----------+-------+-------------+-------------+-------+----+------------------------+---+-------+\n",
      "only showing top 20 rows\n",
      "\n"
     ]
    }
   ],
   "source": [
    "df.show()"
   ]
  },
  {
   "cell_type": "code",
   "execution_count": 47,
   "metadata": {},
   "outputs": [
    {
     "name": "stdout",
     "output_type": "stream",
     "text": [
      "root\n",
      " |-- Pregnancies: integer (nullable = true)\n",
      " |-- Glucose: integer (nullable = true)\n",
      " |-- BloodPressure: integer (nullable = true)\n",
      " |-- SkinThickness: integer (nullable = true)\n",
      " |-- Insulin: integer (nullable = true)\n",
      " |-- BMI: double (nullable = true)\n",
      " |-- DiabetesPedigreeFunction: double (nullable = true)\n",
      " |-- Age: integer (nullable = true)\n",
      " |-- Outcome: integer (nullable = true)\n",
      "\n"
     ]
    }
   ],
   "source": [
    "df.printSchema()"
   ]
  },
  {
   "cell_type": "code",
   "execution_count": 7,
   "metadata": {},
   "outputs": [
    {
     "data": {
      "text/html": [
       "<div>\n",
       "<style>\n",
       "    .dataframe thead tr:only-child th {\n",
       "        text-align: right;\n",
       "    }\n",
       "\n",
       "    .dataframe thead th {\n",
       "        text-align: left;\n",
       "    }\n",
       "\n",
       "    .dataframe tbody tr th {\n",
       "        vertical-align: top;\n",
       "    }\n",
       "</style>\n",
       "<table border=\"1\" class=\"dataframe\">\n",
       "  <thead>\n",
       "    <tr style=\"text-align: right;\">\n",
       "      <th></th>\n",
       "      <th>0</th>\n",
       "      <th>1</th>\n",
       "      <th>2</th>\n",
       "      <th>3</th>\n",
       "      <th>4</th>\n",
       "    </tr>\n",
       "  </thead>\n",
       "  <tbody>\n",
       "    <tr>\n",
       "      <th>summary</th>\n",
       "      <td>count</td>\n",
       "      <td>mean</td>\n",
       "      <td>stddev</td>\n",
       "      <td>min</td>\n",
       "      <td>max</td>\n",
       "    </tr>\n",
       "    <tr>\n",
       "      <th>Pregnancies</th>\n",
       "      <td>768</td>\n",
       "      <td>3.8450520833333335</td>\n",
       "      <td>3.36957806269887</td>\n",
       "      <td>0</td>\n",
       "      <td>17</td>\n",
       "    </tr>\n",
       "    <tr>\n",
       "      <th>Glucose</th>\n",
       "      <td>768</td>\n",
       "      <td>120.89453125</td>\n",
       "      <td>31.97261819513622</td>\n",
       "      <td>0</td>\n",
       "      <td>199</td>\n",
       "    </tr>\n",
       "    <tr>\n",
       "      <th>BloodPressure</th>\n",
       "      <td>768</td>\n",
       "      <td>69.10546875</td>\n",
       "      <td>19.355807170644777</td>\n",
       "      <td>0</td>\n",
       "      <td>122</td>\n",
       "    </tr>\n",
       "    <tr>\n",
       "      <th>SkinThickness</th>\n",
       "      <td>768</td>\n",
       "      <td>20.536458333333332</td>\n",
       "      <td>15.952217567727642</td>\n",
       "      <td>0</td>\n",
       "      <td>99</td>\n",
       "    </tr>\n",
       "    <tr>\n",
       "      <th>Insulin</th>\n",
       "      <td>768</td>\n",
       "      <td>79.79947916666667</td>\n",
       "      <td>115.24400235133803</td>\n",
       "      <td>0</td>\n",
       "      <td>846</td>\n",
       "    </tr>\n",
       "    <tr>\n",
       "      <th>Age</th>\n",
       "      <td>768</td>\n",
       "      <td>33.240885416666664</td>\n",
       "      <td>11.760231540678689</td>\n",
       "      <td>21</td>\n",
       "      <td>81</td>\n",
       "    </tr>\n",
       "    <tr>\n",
       "      <th>Outcome</th>\n",
       "      <td>768</td>\n",
       "      <td>0.3489583333333333</td>\n",
       "      <td>0.476951377242799</td>\n",
       "      <td>0</td>\n",
       "      <td>1</td>\n",
       "    </tr>\n",
       "  </tbody>\n",
       "</table>\n",
       "</div>"
      ],
      "text/plain": [
       "                   0                   1                   2    3    4\n",
       "summary        count                mean              stddev  min  max\n",
       "Pregnancies      768  3.8450520833333335    3.36957806269887    0   17\n",
       "Glucose          768        120.89453125   31.97261819513622    0  199\n",
       "BloodPressure    768         69.10546875  19.355807170644777    0  122\n",
       "SkinThickness    768  20.536458333333332  15.952217567727642    0   99\n",
       "Insulin          768   79.79947916666667  115.24400235133803    0  846\n",
       "Age              768  33.240885416666664  11.760231540678689   21   81\n",
       "Outcome          768  0.3489583333333333   0.476951377242799    0    1"
      ]
     },
     "execution_count": 7,
     "metadata": {},
     "output_type": "execute_result"
    }
   ],
   "source": [
    "numeric_features = [t[0] for t in df.dtypes if t[1] == 'int']\n",
    "df.select(numeric_features).describe().toPandas().transpose()"
   ]
  },
  {
   "cell_type": "code",
   "execution_count": 8,
   "metadata": {},
   "outputs": [
    {
     "name": "stdout",
     "output_type": "stream",
     "text": [
      "+-----------+-------+-------------+-------------+-------+----+------------------------+---+-------+\n",
      "|Pregnancies|Glucose|BloodPressure|SkinThickness|Insulin| BMI|DiabetesPedigreeFunction|Age|Outcome|\n",
      "+-----------+-------+-------------+-------------+-------+----+------------------------+---+-------+\n",
      "|          6|    148|           72|           35|      0|33.6|                   0.627| 50|      1|\n",
      "|          1|     85|           66|           29|      0|26.6|                   0.351| 31|      0|\n",
      "|          8|    183|           64|            0|      0|23.3|                   0.672| 32|      1|\n",
      "|          1|     89|           66|           23|     94|28.1|                   0.167| 21|      0|\n",
      "|          0|    137|           40|           35|    168|43.1|                   2.288| 33|      1|\n",
      "|          5|    116|           74|            0|      0|25.6|                   0.201| 30|      0|\n",
      "|          3|     78|           50|           32|     88|31.0|                   0.248| 26|      1|\n",
      "|         10|    115|            0|            0|      0|35.3|                   0.134| 29|      0|\n",
      "|          2|    197|           70|           45|    543|30.5|                   0.158| 53|      1|\n",
      "|          8|    125|           96|            0|      0| 0.0|                   0.232| 54|      1|\n",
      "|          4|    110|           92|            0|      0|37.6|                   0.191| 30|      0|\n",
      "|         10|    168|           74|            0|      0|38.0|                   0.537| 34|      1|\n",
      "|         10|    139|           80|            0|      0|27.1|                   1.441| 57|      0|\n",
      "|          1|    189|           60|           23|    846|30.1|                   0.398| 59|      1|\n",
      "|          5|    166|           72|           19|    175|25.8|                   0.587| 51|      1|\n",
      "|          7|    100|            0|            0|      0|30.0|                   0.484| 32|      1|\n",
      "|          0|    118|           84|           47|    230|45.8|                   0.551| 31|      1|\n",
      "|          7|    107|           74|            0|      0|29.6|                   0.254| 31|      1|\n",
      "|          1|    103|           30|           38|     83|43.3|                   0.183| 33|      0|\n",
      "|          1|    115|           70|           30|     96|34.6|                   0.529| 32|      1|\n",
      "+-----------+-------+-------------+-------------+-------+----+------------------------+---+-------+\n",
      "only showing top 20 rows\n",
      "\n"
     ]
    }
   ],
   "source": [
    "df.show()"
   ]
  },
  {
   "cell_type": "code",
   "execution_count": 9,
   "metadata": {},
   "outputs": [
    {
     "name": "stdout",
     "output_type": "stream",
     "text": [
      "+-----------+-------+-------------+-------------+-------+----+------------------------+---+-------+\n",
      "|Pregnancies|Glucose|BloodPressure|SkinThickness|Insulin| BMI|DiabetesPedigreeFunction|Age|Outcome|\n",
      "+-----------+-------+-------------+-------------+-------+----+------------------------+---+-------+\n",
      "|          6|    148|           72|           35|      0|33.6|                   0.627| 50|      1|\n",
      "|          1|     85|           66|           29|      0|26.6|                   0.351| 31|      0|\n",
      "|          8|    183|           64|            0|      0|23.3|                   0.672| 32|      1|\n",
      "|          5|    116|           74|            0|      0|25.6|                   0.201| 30|      0|\n",
      "|         10|    115|            0|            0|      0|35.3|                   0.134| 29|      0|\n",
      "|          8|    125|           96|            0|      0| 0.0|                   0.232| 54|      1|\n",
      "|          4|    110|           92|            0|      0|37.6|                   0.191| 30|      0|\n",
      "|         10|    168|           74|            0|      0|38.0|                   0.537| 34|      1|\n",
      "|         10|    139|           80|            0|      0|27.1|                   1.441| 57|      0|\n",
      "|          7|    100|            0|            0|      0|30.0|                   0.484| 32|      1|\n",
      "|          7|    107|           74|            0|      0|29.6|                   0.254| 31|      1|\n",
      "|          8|     99|           84|            0|      0|35.4|                   0.388| 50|      0|\n",
      "|          7|    196|           90|            0|      0|39.8|                   0.451| 41|      1|\n",
      "|          9|    119|           80|           35|      0|29.0|                   0.263| 29|      1|\n",
      "|          7|    147|           76|            0|      0|39.4|                   0.257| 43|      1|\n",
      "|          5|    117|           92|            0|      0|34.1|                   0.337| 38|      0|\n",
      "|          5|    109|           75|           26|      0|36.0|                   0.546| 60|      0|\n",
      "|          6|     92|           92|            0|      0|19.9|                   0.188| 28|      0|\n",
      "|         10|    122|           78|           31|      0|27.6|                   0.512| 45|      0|\n",
      "|         11|    138|           76|            0|      0|33.2|                    0.42| 35|      0|\n",
      "+-----------+-------+-------------+-------------+-------+----+------------------------+---+-------+\n",
      "only showing top 20 rows\n",
      "\n"
     ]
    }
   ],
   "source": [
    "# Filter data usign pyspark\n",
    "df.filter(\" Insulin == 0\").show()"
   ]
  },
  {
   "cell_type": "code",
   "execution_count": 10,
   "metadata": {},
   "outputs": [
    {
     "name": "stdout",
     "output_type": "stream",
     "text": [
      "+-----------+-------+-------------+-------------+-------+----+------------------------+---+-------+\n",
      "|Pregnancies|Glucose|BloodPressure|SkinThickness|Insulin| BMI|DiabetesPedigreeFunction|Age|Outcome|\n",
      "+-----------+-------+-------------+-------------+-------+----+------------------------+---+-------+\n",
      "|          1|      0|           48|           20|      0|24.7|                    0.14| 22|      0|\n",
      "|          1|      0|           68|           35|      0|32.0|                   0.389| 22|      0|\n",
      "|          5|      0|           80|           32|      0|41.0|                   0.346| 37|      1|\n",
      "|          6|      0|           68|           41|      0|39.0|                   0.727| 41|      1|\n",
      "+-----------+-------+-------------+-------------+-------+----+------------------------+---+-------+\n",
      "\n"
     ]
    }
   ],
   "source": [
    "df.filter( (df['Insulin'] == 0) & (df['Glucose'] == 0) ).show()"
   ]
  },
  {
   "cell_type": "code",
   "execution_count": 11,
   "metadata": {
    "collapsed": true
   },
   "outputs": [],
   "source": [
    "from pyspark.sql.functions import when\n",
    "df=df.withColumn(\"Glucose\",when(df.Glucose==0,np.nan).otherwise(df.Glucose))\n",
    "df=df.withColumn(\"BloodPressure\",when(df.BloodPressure==0,np.nan).otherwise(df.BloodPressure))\n",
    "df=df.withColumn(\"SkinThickness\",when(df.SkinThickness==0,np.nan).otherwise(df.SkinThickness))\n",
    "df=df.withColumn(\"BMI\",when(df.BMI==0,np.nan).otherwise(df.BMI))\n",
    "df=df.withColumn(\"Insulin\",when(df.Insulin==0,np.nan).otherwise(df.Insulin))"
   ]
  },
  {
   "cell_type": "code",
   "execution_count": 12,
   "metadata": {},
   "outputs": [
    {
     "name": "stdout",
     "output_type": "stream",
     "text": [
      "+-----------+-------+-------------+------------------+-----------------+----+------------------------+---+-------+\n",
      "|Pregnancies|Glucose|BloodPressure|     SkinThickness|          Insulin| BMI|DiabetesPedigreeFunction|Age|Outcome|\n",
      "+-----------+-------+-------------+------------------+-----------------+----+------------------------+---+-------+\n",
      "|          6|  148.0|         72.0|              35.0|155.5482233502538|33.6|                   0.627| 50|      1|\n",
      "|          1|   85.0|         66.0|              29.0|155.5482233502538|26.6|                   0.351| 31|      0|\n",
      "|          8|  183.0|         64.0|29.153419593345657|155.5482233502538|23.3|                   0.672| 32|      1|\n",
      "|          1|   89.0|         66.0|              23.0|             94.0|28.1|                   0.167| 21|      0|\n",
      "|          0|  137.0|         40.0|              35.0|            168.0|43.1|                   2.288| 33|      1|\n",
      "+-----------+-------+-------------+------------------+-----------------+----+------------------------+---+-------+\n",
      "only showing top 5 rows\n",
      "\n"
     ]
    }
   ],
   "source": [
    "from pyspark.ml.feature import Imputer\n",
    "imputer=Imputer(inputCols=[\"Glucose\",\"BloodPressure\",\"SkinThickness\",\"BMI\",\"Insulin\"],outputCols=[\"Glucose\",\"BloodPressure\",\"SkinThickness\",\"BMI\",\"Insulin\"])\n",
    "model=imputer.fit(df)\n",
    "raw_data=model.transform(df)\n",
    "df=raw_data\n",
    "raw_data.show(5)"
   ]
  },
  {
   "cell_type": "markdown",
   "metadata": {},
   "source": [
    "## Statistics"
   ]
  },
  {
   "cell_type": "code",
   "execution_count": 13,
   "metadata": {},
   "outputs": [
    {
     "name": "stdout",
     "output_type": "stream",
     "text": [
      "768\n",
      "9\n"
     ]
    }
   ],
   "source": [
    "print(df.count()) #Row Count\n",
    "print(len(df.columns)) #Column Count"
   ]
  },
  {
   "cell_type": "code",
   "execution_count": 14,
   "metadata": {},
   "outputs": [
    {
     "name": "stdout",
     "output_type": "stream",
     "text": [
      "+-------+-----+\n",
      "|Outcome|count|\n",
      "+-------+-----+\n",
      "|      1|  268|\n",
      "|      0|  500|\n",
      "+-------+-----+\n",
      "\n"
     ]
    }
   ],
   "source": [
    "raw_data.groupby(\"Outcome\").count().show()"
   ]
  },
  {
   "cell_type": "markdown",
   "metadata": {},
   "source": [
    "## String Columns > Integer Columns"
   ]
  },
  {
   "cell_type": "code",
   "execution_count": 15,
   "metadata": {
    "collapsed": true
   },
   "outputs": [],
   "source": [
    "def udf_multiple(age):\n",
    "  if (age <= 25):\n",
    "    return 'Under 25'\n",
    "  elif (age >= 25 and age <= 35):\n",
    "    return 'Between 25 and 35'\n",
    "  elif (age > 35 and age < 50):\n",
    "    return 'Between 36 and 49'\n",
    "  elif (age >= 50):\n",
    "    return 'Over 50'\n",
    "  else: return 'N/A'\n",
    "\n",
    "education_udf = udf(udf_multiple)\n",
    "df=df.withColumn(\"Age_udf\", education_udf('Age'))"
   ]
  },
  {
   "cell_type": "code",
   "execution_count": 16,
   "metadata": {
    "collapsed": true
   },
   "outputs": [],
   "source": [
    "from pyspark.sql import functions as F\n",
    "from pyspark.sql.functions import rank,sum,col\n",
    "from pyspark.sql import Window\n",
    "\n",
    "window = Window.rowsBetween(Window.unboundedPreceding,Window.unboundedFollowing)\n",
    "tab = df.select(['Age_udf','Glucose']).\\\n",
    "   groupBy('Age_udf').\\\n",
    "   agg(F.count('Glucose').alias('Glucose_COUNT'),\n",
    "       F.mean('Glucose').alias('Glucose_AVG'),\n",
    "       F.min('Glucose').alias('Glucose_MIN'),\n",
    "       F.max('Glucose').alias('Glucose_MAX')).\\\n",
    "   withColumn('total',sum(col('Glucose_COUNT')).over(window)).\\\n",
    "   withColumn('Percent',col('Glucose_COUNT')*100/col('total')).\\\n",
    "   drop(col('total')).sort(desc(\"Percent\"))"
   ]
  },
  {
   "cell_type": "code",
   "execution_count": 17,
   "metadata": {},
   "outputs": [
    {
     "name": "stdout",
     "output_type": "stream",
     "text": [
      "+-----------------+-------------+------------------+-----------+-----------+------------------+\n",
      "|          Age_udf|Glucose_COUNT|       Glucose_AVG|Glucose_MIN|Glucose_MAX|           Percent|\n",
      "+-----------------+-------------+------------------+-----------+-----------+------------------+\n",
      "|         Under 25|          267| 112.0863681211068|       56.0|      199.0|         34.765625|\n",
      "|Between 25 and 35|          231|121.67099567099567|       71.0|      198.0|         30.078125|\n",
      "|Between 36 and 49|          181|127.08493660528735|       44.0|      197.0|23.567708333333332|\n",
      "|          Over 50|           89| 139.5505617977528|       57.0|      197.0|11.588541666666666|\n",
      "+-----------------+-------------+------------------+-----------+-----------+------------------+\n",
      "\n"
     ]
    }
   ],
   "source": [
    "tab.show()"
   ]
  },
  {
   "cell_type": "code",
   "execution_count": 18,
   "metadata": {},
   "outputs": [
    {
     "data": {
      "image/png": "[encoded data removed]",
      "text/plain": [
       "<matplotlib.figure.Figure at 0x115ce3cc0>"
      ]
     },
     "metadata": {},
     "output_type": "display_data"
    }
   ],
   "source": [
    "# Data to plot\n",
    "labels = list(tab.select('Age_udf').distinct().toPandas()['Age_udf'])\n",
    "sizes =  list(tab.select('Percent').distinct().toPandas()['Percent'])\n",
    "colors = ['gold', 'yellowgreen', 'lightcoral','blue', 'lightskyblue','green','red']\n",
    "explode = (0.1, 0.0, 0 ,0.0 )  # explode 1st slice\n",
    "\n",
    "# Plot\n",
    "plt.figure(figsize=(10,8))\n",
    "plt.pie(sizes, explode=explode, labels=labels, colors=colors,\n",
    "        autopct='%1.1f%%', shadow=True, startangle=140)\n",
    "\n",
    "plt.axis('equal')\n",
    "plt.show()"
   ]
  },
  {
   "cell_type": "code",
   "execution_count": 19,
   "metadata": {},
   "outputs": [
    {
     "name": "stdout",
     "output_type": "stream",
     "text": [
      "+-----------+-------+-----------------+------------------+-----------------+-----------------+------------------------+---+-------+-----------------+\n",
      "|Pregnancies|Glucose|    BloodPressure|     SkinThickness|          Insulin|              BMI|DiabetesPedigreeFunction|Age|Outcome|          Age_udf|\n",
      "+-----------+-------+-----------------+------------------+-----------------+-----------------+------------------------+---+-------+-----------------+\n",
      "|          6|  148.0|             72.0|              35.0|155.5482233502538|             33.6|                   0.627| 50|      1|          Over 50|\n",
      "|          1|   85.0|             66.0|              29.0|155.5482233502538|             26.6|                   0.351| 31|      0|Between 25 and 35|\n",
      "|          8|  183.0|             64.0|29.153419593345657|155.5482233502538|             23.3|                   0.672| 32|      1|Between 25 and 35|\n",
      "|          1|   89.0|             66.0|              23.0|             94.0|             28.1|                   0.167| 21|      0|         Under 25|\n",
      "|          0|  137.0|             40.0|              35.0|            168.0|             43.1|                   2.288| 33|      1|Between 25 and 35|\n",
      "|          5|  116.0|             74.0|29.153419593345657|155.5482233502538|             25.6|                   0.201| 30|      0|Between 25 and 35|\n",
      "|          3|   78.0|             50.0|              32.0|             88.0|             31.0|                   0.248| 26|      1|Between 25 and 35|\n",
      "|         10|  115.0|72.40518417462484|29.153419593345657|155.5482233502538|             35.3|                   0.134| 29|      0|Between 25 and 35|\n",
      "|          2|  197.0|             70.0|              45.0|            543.0|             30.5|                   0.158| 53|      1|          Over 50|\n",
      "|          8|  125.0|             96.0|29.153419593345657|155.5482233502538|32.45746367239099|                   0.232| 54|      1|          Over 50|\n",
      "|          4|  110.0|             92.0|29.153419593345657|155.5482233502538|             37.6|                   0.191| 30|      0|Between 25 and 35|\n",
      "|         10|  168.0|             74.0|29.153419593345657|155.5482233502538|             38.0|                   0.537| 34|      1|Between 25 and 35|\n",
      "|         10|  139.0|             80.0|29.153419593345657|155.5482233502538|             27.1|                   1.441| 57|      0|          Over 50|\n",
      "|          1|  189.0|             60.0|              23.0|            846.0|             30.1|                   0.398| 59|      1|          Over 50|\n",
      "|          5|  166.0|             72.0|              19.0|            175.0|             25.8|                   0.587| 51|      1|          Over 50|\n",
      "|          7|  100.0|72.40518417462484|29.153419593345657|155.5482233502538|             30.0|                   0.484| 32|      1|Between 25 and 35|\n",
      "|          0|  118.0|             84.0|              47.0|            230.0|             45.8|                   0.551| 31|      1|Between 25 and 35|\n",
      "|          7|  107.0|             74.0|29.153419593345657|155.5482233502538|             29.6|                   0.254| 31|      1|Between 25 and 35|\n",
      "|          1|  103.0|             30.0|              38.0|             83.0|             43.3|                   0.183| 33|      0|Between 25 and 35|\n",
      "|          1|  115.0|             70.0|              30.0|             96.0|             34.6|                   0.529| 32|      1|Between 25 and 35|\n",
      "+-----------+-------+-----------------+------------------+-----------------+-----------------+------------------------+---+-------+-----------------+\n",
      "only showing top 20 rows\n",
      "\n"
     ]
    }
   ],
   "source": [
    "df.show()"
   ]
  },
  {
   "cell_type": "markdown",
   "metadata": {},
   "source": [
    "# The correlation between the numerical values was investigated"
   ]
  },
  {
   "cell_type": "code",
   "execution_count": 20,
   "metadata": {
    "collapsed": true
   },
   "outputs": [],
   "source": [
    "df_corr=df['Pregnancies',\n",
    " 'Glucose',\n",
    " 'BloodPressure',\n",
    " 'SkinThickness',\n",
    " 'Insulin',\n",
    " 'BMI',\n",
    " 'DiabetesPedigreeFunction',\n",
    " 'Age']"
   ]
  },
  {
   "cell_type": "code",
   "execution_count": 21,
   "metadata": {},
   "outputs": [
    {
     "name": "stdout",
     "output_type": "stream",
     "text": [
      "+-----------+-------+-----------------+------------------+-----------------+-----------------+------------------------+---+\n",
      "|Pregnancies|Glucose|    BloodPressure|     SkinThickness|          Insulin|              BMI|DiabetesPedigreeFunction|Age|\n",
      "+-----------+-------+-----------------+------------------+-----------------+-----------------+------------------------+---+\n",
      "|          6|  148.0|             72.0|              35.0|155.5482233502538|             33.6|                   0.627| 50|\n",
      "|          1|   85.0|             66.0|              29.0|155.5482233502538|             26.6|                   0.351| 31|\n",
      "|          8|  183.0|             64.0|29.153419593345657|155.5482233502538|             23.3|                   0.672| 32|\n",
      "|          1|   89.0|             66.0|              23.0|             94.0|             28.1|                   0.167| 21|\n",
      "|          0|  137.0|             40.0|              35.0|            168.0|             43.1|                   2.288| 33|\n",
      "|          5|  116.0|             74.0|29.153419593345657|155.5482233502538|             25.6|                   0.201| 30|\n",
      "|          3|   78.0|             50.0|              32.0|             88.0|             31.0|                   0.248| 26|\n",
      "|         10|  115.0|72.40518417462484|29.153419593345657|155.5482233502538|             35.3|                   0.134| 29|\n",
      "|          2|  197.0|             70.0|              45.0|            543.0|             30.5|                   0.158| 53|\n",
      "|          8|  125.0|             96.0|29.153419593345657|155.5482233502538|32.45746367239099|                   0.232| 54|\n",
      "|          4|  110.0|             92.0|29.153419593345657|155.5482233502538|             37.6|                   0.191| 30|\n",
      "|         10|  168.0|             74.0|29.153419593345657|155.5482233502538|             38.0|                   0.537| 34|\n",
      "|         10|  139.0|             80.0|29.153419593345657|155.5482233502538|             27.1|                   1.441| 57|\n",
      "|          1|  189.0|             60.0|              23.0|            846.0|             30.1|                   0.398| 59|\n",
      "|          5|  166.0|             72.0|              19.0|            175.0|             25.8|                   0.587| 51|\n",
      "|          7|  100.0|72.40518417462484|29.153419593345657|155.5482233502538|             30.0|                   0.484| 32|\n",
      "|          0|  118.0|             84.0|              47.0|            230.0|             45.8|                   0.551| 31|\n",
      "|          7|  107.0|             74.0|29.153419593345657|155.5482233502538|             29.6|                   0.254| 31|\n",
      "|          1|  103.0|             30.0|              38.0|             83.0|             43.3|                   0.183| 33|\n",
      "|          1|  115.0|             70.0|              30.0|             96.0|             34.6|                   0.529| 32|\n",
      "+-----------+-------+-----------------+------------------+-----------------+-----------------+------------------------+---+\n",
      "only showing top 20 rows\n",
      "\n"
     ]
    }
   ],
   "source": [
    "df_corr.show()"
   ]
  },
  {
   "cell_type": "code",
   "execution_count": 22,
   "metadata": {},
   "outputs": [
    {
     "name": "stdout",
     "output_type": "stream",
     "text": [
      "                          Pregnancies   Glucose  BloodPressure  SkinThickness   Insulin       BMI  DiabetesPedigreeFunction       Age\n",
      "Pregnancies                  1.000000  0.127911       0.208522       0.082989  0.056027  0.021565                 -0.033523  0.544341\n",
      "Glucose                      0.127911  1.000000       0.218367       0.192991  0.420157  0.230941                  0.137060  0.266534\n",
      "BloodPressure                0.208522  0.218367       1.000000       0.192816  0.072517  0.281268                 -0.002763  0.324595\n",
      "SkinThickness                0.082989  0.192991       0.192816       1.000000  0.158139  0.542398                  0.100966  0.127872\n",
      "Insulin                      0.056027  0.420157       0.072517       0.158139  1.000000  0.166586                  0.098634  0.136734\n",
      "BMI                          0.021565  0.230941       0.281268       0.542398  0.166586  1.000000                  0.153400  0.025519\n",
      "DiabetesPedigreeFunction    -0.033523  0.137060      -0.002763       0.100966  0.098634  0.153400                  1.000000  0.033561\n",
      "Age                          0.544341  0.266534       0.324595       0.127872  0.136734  0.025519                  0.033561  1.000000\n"
     ]
    }
   ],
   "source": [
    "col_names =df_corr.columns\n",
    "features = df_corr.rdd.map(lambda row: row[0:])\n",
    "corr_mat=Statistics.corr(features, method=\"pearson\")\n",
    "corr_df = pd.DataFrame(corr_mat)\n",
    "corr_df.index, corr_df.columns = col_names, col_names\n",
    "\n",
    "print(corr_df.to_string())"
   ]
  },
  {
   "cell_type": "code",
   "execution_count": 23,
   "metadata": {
    "collapsed": true
   },
   "outputs": [],
   "source": [
    "from pyspark.sql.functions import udf\n",
    "y_udf = udf(lambda y: \"No\" if y==0 else \"yes\", StringType())\n",
    "\n",
    "df=df.withColumn(\"HasDiabities\", y_udf('OutCome')).drop(\"OutCome\")"
   ]
  },
  {
   "cell_type": "code",
   "execution_count": 24,
   "metadata": {},
   "outputs": [
    {
     "name": "stdout",
     "output_type": "stream",
     "text": [
      "root\n",
      " |-- Pregnancies: integer (nullable = true)\n",
      " |-- Glucose: double (nullable = true)\n",
      " |-- BloodPressure: double (nullable = true)\n",
      " |-- SkinThickness: double (nullable = true)\n",
      " |-- Insulin: double (nullable = true)\n",
      " |-- BMI: double (nullable = true)\n",
      " |-- DiabetesPedigreeFunction: double (nullable = true)\n",
      " |-- Age: integer (nullable = true)\n",
      " |-- Age_udf: string (nullable = true)\n",
      " |-- HasDiabities: string (nullable = true)\n",
      "\n"
     ]
    }
   ],
   "source": [
    "df.printSchema()"
   ]
  },
  {
   "cell_type": "code",
   "execution_count": 25,
   "metadata": {
    "collapsed": true
   },
   "outputs": [],
   "source": [
    "df=df.drop(\"Age\")"
   ]
  },
  {
   "cell_type": "code",
   "execution_count": 26,
   "metadata": {
    "collapsed": true
   },
   "outputs": [],
   "source": [
    "from pyspark.ml.feature import OneHotEncoderEstimator, StringIndexer, VectorAssembler\n",
    "categoricalColumns = [ 'Age_udf']\n",
    "stages = []\n",
    "for categoricalCol in categoricalColumns:\n",
    "    stringIndexer = StringIndexer(inputCol = categoricalCol, outputCol = categoricalCol + 'Index')\n",
    "    encoder = OneHotEncoderEstimator(inputCols=[stringIndexer.getOutputCol()], outputCols=[categoricalCol + \"classVec\"])\n",
    "    stages += [stringIndexer, encoder]\n",
    "label_stringIdx = StringIndexer(inputCol = 'HasDiabities', outputCol = 'label')\n",
    "stages += [label_stringIdx]\n",
    "numericCols = [\"Pregnancies\", 'Glucose', 'BloodPressure', 'SkinThickness','Insulin','BMI','DiabetesPedigreeFunction']\n",
    "assemblerInputs = [c + \"classVec\" for c in categoricalColumns] + numericCols\n",
    "assembler = VectorAssembler(inputCols=assemblerInputs, outputCol=\"features\")\n",
    "stages += [assembler]"
   ]
  },
  {
   "cell_type": "code",
   "execution_count": 27,
   "metadata": {
    "collapsed": true
   },
   "outputs": [],
   "source": [
    "cols = df.columns"
   ]
  },
  {
   "cell_type": "code",
   "execution_count": 28,
   "metadata": {},
   "outputs": [
    {
     "data": {
      "text/plain": [
       "['Pregnancies',\n",
       " 'Glucose',\n",
       " 'BloodPressure',\n",
       " 'SkinThickness',\n",
       " 'Insulin',\n",
       " 'BMI',\n",
       " 'DiabetesPedigreeFunction',\n",
       " 'Age_udf',\n",
       " 'HasDiabities']"
      ]
     },
     "execution_count": 28,
     "metadata": {},
     "output_type": "execute_result"
    }
   ],
   "source": [
    "cols"
   ]
  },
  {
   "cell_type": "code",
   "execution_count": 29,
   "metadata": {},
   "outputs": [
    {
     "name": "stdout",
     "output_type": "stream",
     "text": [
      "root\n",
      " |-- label: double (nullable = false)\n",
      " |-- features: vector (nullable = true)\n",
      " |-- Pregnancies: integer (nullable = true)\n",
      " |-- Glucose: double (nullable = true)\n",
      " |-- BloodPressure: double (nullable = true)\n",
      " |-- SkinThickness: double (nullable = true)\n",
      " |-- Insulin: double (nullable = true)\n",
      " |-- BMI: double (nullable = true)\n",
      " |-- DiabetesPedigreeFunction: double (nullable = true)\n",
      " |-- Age_udf: string (nullable = true)\n",
      " |-- HasDiabities: string (nullable = true)\n",
      "\n"
     ]
    }
   ],
   "source": [
    "from pyspark.ml import Pipeline\n",
    "pipeline = Pipeline(stages = stages)\n",
    "pipelineModel = pipeline.fit(df)\n",
    "df = pipelineModel.transform(df)\n",
    "selectedCols = ['label', 'features'] + cols\n",
    "df = df.select(selectedCols)\n",
    "df.printSchema()"
   ]
  },
  {
   "cell_type": "code",
   "execution_count": 30,
   "metadata": {},
   "outputs": [
    {
     "data": {
      "text/html": [
       "<div>\n",
       "<style>\n",
       "    .dataframe thead tr:only-child th {\n",
       "        text-align: right;\n",
       "    }\n",
       "\n",
       "    .dataframe thead th {\n",
       "        text-align: left;\n",
       "    }\n",
       "\n",
       "    .dataframe tbody tr th {\n",
       "        vertical-align: top;\n",
       "    }\n",
       "</style>\n",
       "<table border=\"1\" class=\"dataframe\">\n",
       "  <thead>\n",
       "    <tr style=\"text-align: right;\">\n",
       "      <th></th>\n",
       "      <th>0</th>\n",
       "      <th>1</th>\n",
       "      <th>2</th>\n",
       "      <th>3</th>\n",
       "      <th>4</th>\n",
       "    </tr>\n",
       "  </thead>\n",
       "  <tbody>\n",
       "    <tr>\n",
       "      <th>label</th>\n",
       "      <td>1</td>\n",
       "      <td>0</td>\n",
       "      <td>1</td>\n",
       "      <td>0</td>\n",
       "      <td>1</td>\n",
       "    </tr>\n",
       "    <tr>\n",
       "      <th>features</th>\n",
       "      <td>[0.0, 0.0, 0.0, 6.0, 148.0, 72.0, 35.0, 155.54...</td>\n",
       "      <td>[0.0, 1.0, 0.0, 1.0, 85.0, 66.0, 29.0, 155.548...</td>\n",
       "      <td>[0.0, 1.0, 0.0, 8.0, 183.0, 64.0, 29.153419593...</td>\n",
       "      <td>[1.0, 0.0, 0.0, 1.0, 89.0, 66.0, 23.0, 94.0, 2...</td>\n",
       "      <td>[0.0, 1.0, 0.0, 0.0, 137.0, 40.0, 35.0, 168.0,...</td>\n",
       "    </tr>\n",
       "    <tr>\n",
       "      <th>Pregnancies</th>\n",
       "      <td>6</td>\n",
       "      <td>1</td>\n",
       "      <td>8</td>\n",
       "      <td>1</td>\n",
       "      <td>0</td>\n",
       "    </tr>\n",
       "    <tr>\n",
       "      <th>Glucose</th>\n",
       "      <td>148</td>\n",
       "      <td>85</td>\n",
       "      <td>183</td>\n",
       "      <td>89</td>\n",
       "      <td>137</td>\n",
       "    </tr>\n",
       "    <tr>\n",
       "      <th>BloodPressure</th>\n",
       "      <td>72</td>\n",
       "      <td>66</td>\n",
       "      <td>64</td>\n",
       "      <td>66</td>\n",
       "      <td>40</td>\n",
       "    </tr>\n",
       "    <tr>\n",
       "      <th>SkinThickness</th>\n",
       "      <td>35</td>\n",
       "      <td>29</td>\n",
       "      <td>29.1534</td>\n",
       "      <td>23</td>\n",
       "      <td>35</td>\n",
       "    </tr>\n",
       "    <tr>\n",
       "      <th>Insulin</th>\n",
       "      <td>155.548</td>\n",
       "      <td>155.548</td>\n",
       "      <td>155.548</td>\n",
       "      <td>94</td>\n",
       "      <td>168</td>\n",
       "    </tr>\n",
       "    <tr>\n",
       "      <th>BMI</th>\n",
       "      <td>33.6</td>\n",
       "      <td>26.6</td>\n",
       "      <td>23.3</td>\n",
       "      <td>28.1</td>\n",
       "      <td>43.1</td>\n",
       "    </tr>\n",
       "    <tr>\n",
       "      <th>DiabetesPedigreeFunction</th>\n",
       "      <td>0.627</td>\n",
       "      <td>0.351</td>\n",
       "      <td>0.672</td>\n",
       "      <td>0.167</td>\n",
       "      <td>2.288</td>\n",
       "    </tr>\n",
       "    <tr>\n",
       "      <th>Age_udf</th>\n",
       "      <td>Over 50</td>\n",
       "      <td>Between 25 and 35</td>\n",
       "      <td>Between 25 and 35</td>\n",
       "      <td>Under 25</td>\n",
       "      <td>Between 25 and 35</td>\n",
       "    </tr>\n",
       "    <tr>\n",
       "      <th>HasDiabities</th>\n",
       "      <td>yes</td>\n",
       "      <td>No</td>\n",
       "      <td>yes</td>\n",
       "      <td>No</td>\n",
       "      <td>yes</td>\n",
       "    </tr>\n",
       "  </tbody>\n",
       "</table>\n",
       "</div>"
      ],
      "text/plain": [
       "                                                                          0  \\\n",
       "label                                                                     1   \n",
       "features                  [0.0, 0.0, 0.0, 6.0, 148.0, 72.0, 35.0, 155.54...   \n",
       "Pregnancies                                                               6   \n",
       "Glucose                                                                 148   \n",
       "BloodPressure                                                            72   \n",
       "SkinThickness                                                            35   \n",
       "Insulin                                                             155.548   \n",
       "BMI                                                                    33.6   \n",
       "DiabetesPedigreeFunction                                              0.627   \n",
       "Age_udf                                                             Over 50   \n",
       "HasDiabities                                                            yes   \n",
       "\n",
       "                                                                          1  \\\n",
       "label                                                                     0   \n",
       "features                  [0.0, 1.0, 0.0, 1.0, 85.0, 66.0, 29.0, 155.548...   \n",
       "Pregnancies                                                               1   \n",
       "Glucose                                                                  85   \n",
       "BloodPressure                                                            66   \n",
       "SkinThickness                                                            29   \n",
       "Insulin                                                             155.548   \n",
       "BMI                                                                    26.6   \n",
       "DiabetesPedigreeFunction                                              0.351   \n",
       "Age_udf                                                   Between 25 and 35   \n",
       "HasDiabities                                                             No   \n",
       "\n",
       "                                                                          2  \\\n",
       "label                                                                     1   \n",
       "features                  [0.0, 1.0, 0.0, 8.0, 183.0, 64.0, 29.153419593...   \n",
       "Pregnancies                                                               8   \n",
       "Glucose                                                                 183   \n",
       "BloodPressure                                                            64   \n",
       "SkinThickness                                                       29.1534   \n",
       "Insulin                                                             155.548   \n",
       "BMI                                                                    23.3   \n",
       "DiabetesPedigreeFunction                                              0.672   \n",
       "Age_udf                                                   Between 25 and 35   \n",
       "HasDiabities                                                            yes   \n",
       "\n",
       "                                                                          3  \\\n",
       "label                                                                     0   \n",
       "features                  [1.0, 0.0, 0.0, 1.0, 89.0, 66.0, 23.0, 94.0, 2...   \n",
       "Pregnancies                                                               1   \n",
       "Glucose                                                                  89   \n",
       "BloodPressure                                                            66   \n",
       "SkinThickness                                                            23   \n",
       "Insulin                                                                  94   \n",
       "BMI                                                                    28.1   \n",
       "DiabetesPedigreeFunction                                              0.167   \n",
       "Age_udf                                                            Under 25   \n",
       "HasDiabities                                                             No   \n",
       "\n",
       "                                                                          4  \n",
       "label                                                                     1  \n",
       "features                  [0.0, 1.0, 0.0, 0.0, 137.0, 40.0, 35.0, 168.0,...  \n",
       "Pregnancies                                                               0  \n",
       "Glucose                                                                 137  \n",
       "BloodPressure                                                            40  \n",
       "SkinThickness                                                            35  \n",
       "Insulin                                                                 168  \n",
       "BMI                                                                    43.1  \n",
       "DiabetesPedigreeFunction                                              2.288  \n",
       "Age_udf                                                   Between 25 and 35  \n",
       "HasDiabities                                                            yes  "
      ]
     },
     "execution_count": 30,
     "metadata": {},
     "output_type": "execute_result"
    }
   ],
   "source": [
    "pd.DataFrame(df.take(5), columns=df.columns).transpose()"
   ]
  },
  {
   "cell_type": "code",
   "execution_count": 31,
   "metadata": {},
   "outputs": [
    {
     "name": "stdout",
     "output_type": "stream",
     "text": [
      "+-----+--------------------+-----------+-------+-----------------+------------------+-----------------+-----------------+------------------------+-----------------+------------+\n",
      "|label|            features|Pregnancies|Glucose|    BloodPressure|     SkinThickness|          Insulin|              BMI|DiabetesPedigreeFunction|          Age_udf|HasDiabities|\n",
      "+-----+--------------------+-----------+-------+-----------------+------------------+-----------------+-----------------+------------------------+-----------------+------------+\n",
      "|  1.0|[0.0,0.0,0.0,6.0,...|          6|  148.0|             72.0|              35.0|155.5482233502538|             33.6|                   0.627|          Over 50|         yes|\n",
      "|  0.0|[0.0,1.0,0.0,1.0,...|          1|   85.0|             66.0|              29.0|155.5482233502538|             26.6|                   0.351|Between 25 and 35|          No|\n",
      "|  1.0|[0.0,1.0,0.0,8.0,...|          8|  183.0|             64.0|29.153419593345657|155.5482233502538|             23.3|                   0.672|Between 25 and 35|         yes|\n",
      "|  0.0|[1.0,0.0,0.0,1.0,...|          1|   89.0|             66.0|              23.0|             94.0|             28.1|                   0.167|         Under 25|          No|\n",
      "|  1.0|[0.0,1.0,0.0,0.0,...|          0|  137.0|             40.0|              35.0|            168.0|             43.1|                   2.288|Between 25 and 35|         yes|\n",
      "|  0.0|[0.0,1.0,0.0,5.0,...|          5|  116.0|             74.0|29.153419593345657|155.5482233502538|             25.6|                   0.201|Between 25 and 35|          No|\n",
      "|  1.0|[0.0,1.0,0.0,3.0,...|          3|   78.0|             50.0|              32.0|             88.0|             31.0|                   0.248|Between 25 and 35|         yes|\n",
      "|  0.0|[0.0,1.0,0.0,10.0...|         10|  115.0|72.40518417462484|29.153419593345657|155.5482233502538|             35.3|                   0.134|Between 25 and 35|          No|\n",
      "|  1.0|[0.0,0.0,0.0,2.0,...|          2|  197.0|             70.0|              45.0|            543.0|             30.5|                   0.158|          Over 50|         yes|\n",
      "|  1.0|[0.0,0.0,0.0,8.0,...|          8|  125.0|             96.0|29.153419593345657|155.5482233502538|32.45746367239099|                   0.232|          Over 50|         yes|\n",
      "|  0.0|[0.0,1.0,0.0,4.0,...|          4|  110.0|             92.0|29.153419593345657|155.5482233502538|             37.6|                   0.191|Between 25 and 35|          No|\n",
      "|  1.0|[0.0,1.0,0.0,10.0...|         10|  168.0|             74.0|29.153419593345657|155.5482233502538|             38.0|                   0.537|Between 25 and 35|         yes|\n",
      "|  0.0|[0.0,0.0,0.0,10.0...|         10|  139.0|             80.0|29.153419593345657|155.5482233502538|             27.1|                   1.441|          Over 50|          No|\n",
      "|  1.0|[0.0,0.0,0.0,1.0,...|          1|  189.0|             60.0|              23.0|            846.0|             30.1|                   0.398|          Over 50|         yes|\n",
      "|  1.0|[0.0,0.0,0.0,5.0,...|          5|  166.0|             72.0|              19.0|            175.0|             25.8|                   0.587|          Over 50|         yes|\n",
      "|  1.0|[0.0,1.0,0.0,7.0,...|          7|  100.0|72.40518417462484|29.153419593345657|155.5482233502538|             30.0|                   0.484|Between 25 and 35|         yes|\n",
      "|  1.0|[0.0,1.0,0.0,0.0,...|          0|  118.0|             84.0|              47.0|            230.0|             45.8|                   0.551|Between 25 and 35|         yes|\n",
      "|  1.0|[0.0,1.0,0.0,7.0,...|          7|  107.0|             74.0|29.153419593345657|155.5482233502538|             29.6|                   0.254|Between 25 and 35|         yes|\n",
      "|  0.0|[0.0,1.0,0.0,1.0,...|          1|  103.0|             30.0|              38.0|             83.0|             43.3|                   0.183|Between 25 and 35|          No|\n",
      "|  1.0|[0.0,1.0,0.0,1.0,...|          1|  115.0|             70.0|              30.0|             96.0|             34.6|                   0.529|Between 25 and 35|         yes|\n",
      "+-----+--------------------+-----------+-------+-----------------+------------------+-----------------+-----------------+------------------------+-----------------+------------+\n",
      "only showing top 20 rows\n",
      "\n"
     ]
    }
   ],
   "source": [
    "df.show()"
   ]
  },
  {
   "cell_type": "code",
   "execution_count": 32,
   "metadata": {},
   "outputs": [
    {
     "name": "stdout",
     "output_type": "stream",
     "text": [
      "Training Dataset Count: 627\n",
      "Test Dataset Count: 141\n"
     ]
    }
   ],
   "source": [
    "train, test = df.randomSplit([0.8, 0.2], seed = 2018)\n",
    "print(\"Training Dataset Count: \" + str(train.count()))\n",
    "print(\"Test Dataset Count: \" + str(test.count()))"
   ]
  },
  {
   "cell_type": "code",
   "execution_count": 33,
   "metadata": {},
   "outputs": [
    {
     "name": "stdout",
     "output_type": "stream",
     "text": [
      "+------------+-----+\n",
      "|HasDiabities|count|\n",
      "+------------+-----+\n",
      "|          No|  406|\n",
      "|         yes|  221|\n",
      "+------------+-----+\n",
      "\n"
     ]
    }
   ],
   "source": [
    "train.groupby(\"HasDiabities\").count().show()"
   ]
  },
  {
   "cell_type": "code",
   "execution_count": 34,
   "metadata": {
    "collapsed": true
   },
   "outputs": [],
   "source": [
    "from pyspark.ml.classification import LogisticRegression\n",
    "lr = LogisticRegression(featuresCol = 'features', labelCol = 'label', maxIter=5)\n",
    "lrModel = lr.fit(train)"
   ]
  },
  {
   "cell_type": "code",
   "execution_count": 35,
   "metadata": {},
   "outputs": [
    {
     "data": {
      "image/png": "[encoded data removed]",
      "text/plain": [
       "<matplotlib.figure.Figure at 0x11ad40c50>"
      ]
     },
     "metadata": {},
     "output_type": "display_data"
    }
   ],
   "source": [
    "import matplotlib.pyplot as plt\n",
    "import numpy as np\n",
    "beta = np.sort(lrModel.coefficients)\n",
    "plt.plot(beta)\n",
    "plt.ylabel('Beta Coefficients')\n",
    "plt.show()"
   ]
  },
  {
   "cell_type": "code",
   "execution_count": 36,
   "metadata": {},
   "outputs": [
    {
     "data": {
      "image/png": "[encoded data removed]",
      "text/plain": [
       "<matplotlib.figure.Figure at 0x11ad49a58>"
      ]
     },
     "metadata": {},
     "output_type": "display_data"
    },
    {
     "name": "stdout",
     "output_type": "stream",
     "text": [
      "Training set areaUnderROC: 0.8092581860330342\n"
     ]
    }
   ],
   "source": [
    "trainingSummary = lrModel.summary\n",
    "roc = trainingSummary.roc.toPandas()\n",
    "plt.plot(roc['FPR'],roc['TPR'])\n",
    "plt.ylabel('False Positive Rate')\n",
    "plt.xlabel('True Positive Rate')\n",
    "plt.title('ROC Curve')\n",
    "plt.show()\n",
    "print('Training set areaUnderROC: ' + str(trainingSummary.areaUnderROC))"
   ]
  },
  {
   "cell_type": "code",
   "execution_count": 37,
   "metadata": {},
   "outputs": [
    {
     "data": {
      "image/png": "[encoded data removed]",
      "text/plain": [
       "<matplotlib.figure.Figure at 0x11e20a710>"
      ]
     },
     "metadata": {},
     "output_type": "display_data"
    }
   ],
   "source": [
    "pr = trainingSummary.pr.toPandas()\n",
    "plt.plot(pr['recall'],pr['precision'])\n",
    "plt.ylabel('Precision')\n",
    "plt.xlabel('Recall')\n",
    "plt.show()"
   ]
  },
  {
   "cell_type": "code",
   "execution_count": 38,
   "metadata": {},
   "outputs": [
    {
     "name": "stdout",
     "output_type": "stream",
     "text": [
      "+-----------------+-------+-----+--------------------+----------+--------------------+\n",
      "|          Insulin|Glucose|label|       rawPrediction|prediction|         probability|\n",
      "+-----------------+-------+-----+--------------------+----------+--------------------+\n",
      "|155.5482233502538|  103.0|  0.0|[2.31312084185328...|       0.0|[0.90995788737249...|\n",
      "|155.5482233502538|  137.0|  0.0|[-0.5534270250366...|       1.0|[0.36506967909121...|\n",
      "|            190.0|  142.0|  0.0|[-1.3380114959339...|       1.0|[0.20783725752261...|\n",
      "|             60.0|  134.0|  0.0|[4.82110421617276...|       0.0|[0.50012052760306...|\n",
      "|            180.0|  101.0|  0.0|[0.90928694797318...|       0.0|[0.71285422809401...|\n",
      "|155.5482233502538|  162.0|  0.0|[-0.2008983402221...|       1.0|[0.44994365856344...|\n",
      "|155.5482233502538|  121.0|  0.0|[0.51764311497907...|       0.0|[0.62659648281865...|\n",
      "|155.5482233502538|  146.0|  0.0|[-1.5863236983906...|       1.0|[0.16990175565366...|\n",
      "|155.5482233502538|   90.0|  0.0|[0.18396123221416...|       0.0|[0.54586104616260...|\n",
      "|             73.0|   95.0|  0.0|[0.77129292941681...|       0.0|[0.68380051394610...|\n",
      "+-----------------+-------+-----+--------------------+----------+--------------------+\n",
      "only showing top 10 rows\n",
      "\n"
     ]
    }
   ],
   "source": [
    "predictions = lrModel.transform(test)\n",
    "predictions.select('Insulin', 'Glucose', 'label', 'rawPrediction', 'prediction', 'probability').show(10)"
   ]
  },
  {
   "cell_type": "code",
   "execution_count": 39,
   "metadata": {},
   "outputs": [
    {
     "name": "stdout",
     "output_type": "stream",
     "text": [
      "Test Area Under ROC 0.798098687188773\n"
     ]
    }
   ],
   "source": [
    "from pyspark.ml.evaluation import BinaryClassificationEvaluator\n",
    "evaluator = BinaryClassificationEvaluator()\n",
    "print('Test Area Under ROC', evaluator.evaluate(predictions))"
   ]
  },
  {
   "cell_type": "code",
   "execution_count": 40,
   "metadata": {
    "collapsed": true
   },
   "outputs": [],
   "source": [
    "from pyspark.ml.tuning import ParamGridBuilder, CrossValidator\n",
    "\n",
    "# Create ParamGrid for Cross Validation\n",
    "paramGrid = (ParamGridBuilder()\n",
    "             .addGrid(lr.regParam, [0.01, 0.5, 2.0])\n",
    "             .addGrid(lr.elasticNetParam, [0.0, 0.5, 1.0])\n",
    "             .addGrid(lr.maxIter, [1, 5, 10])\n",
    "             .build())\n",
    "\n",
    "cv = CrossValidator(estimator=lr, estimatorParamMaps=paramGrid, evaluator=evaluator, numFolds=5)\n",
    "\n",
    "cvModel = cv.fit(train)\n",
    "predictions = cvModel.transform(test)"
   ]
  },
  {
   "cell_type": "code",
   "execution_count": 41,
   "metadata": {},
   "outputs": [
    {
     "name": "stdout",
     "output_type": "stream",
     "text": [
      "Test Area Under ROC 0.8125848800362153\n"
     ]
    }
   ],
   "source": [
    "print('Test Area Under ROC', evaluator.evaluate(predictions))"
   ]
  },
  {
   "cell_type": "code",
   "execution_count": null,
   "metadata": {
    "collapsed": true
   },
   "outputs": [],
   "source": []
  }
 ],
 "metadata": {
  "kernelspec": {
   "display_name": "Python 3",
   "language": "python",
   "name": "python3"
  },
  "language_info": {
   "codemirror_mode": {
    "name": "ipython",
    "version": 3
   },
   "file_extension": ".py",
   "mimetype": "text/x-python",
   "name": "python",
   "nbconvert_exporter": "python",
   "pygments_lexer": "ipython3",
   "version": "3.6.3"
  }
 },
 "nbformat": 4,
 "nbformat_minor": 2
}
